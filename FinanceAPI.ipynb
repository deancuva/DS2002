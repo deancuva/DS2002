{
  "nbformat": 4,
  "nbformat_minor": 0,
  "metadata": {
    "colab": {
      "provenance": [],
      "authorship_tag": "ABX9TyPH7hPhBlsHMBtAZQVzHbl6",
      "include_colab_link": true
    },
    "kernelspec": {
      "name": "python3",
      "display_name": "Python 3"
    },
    "language_info": {
      "name": "python"
    }
  },
  "cells": [
    {
      "cell_type": "markdown",
      "metadata": {
        "id": "view-in-github",
        "colab_type": "text"
      },
      "source": [
        "<a href=\"https://colab.research.google.com/github/deancuva/DS2002/blob/main/FinanceAPI.ipynb\" target=\"_parent\"><img src=\"https://colab.research.google.com/assets/colab-badge.svg\" alt=\"Open In Colab\"/></a>"
      ]
    },
    {
      "cell_type": "code",
      "source": [
        "import requests\n",
        "import pandas as pd\n",
        "import json\n",
        "\n",
        "API_KEY = \"\"\n",
        "BASE_URL = \"https://yfapi.net/v6/finance/quote\"\n",
        "symbols = [\"AAPL\", \"MSFT\", \"GOOGL\"]\n",
        "\n",
        "headers = {\n",
        "    \"x-api-key\": API_KEY\n",
        "}\n",
        "\n",
        "params = {\n",
        "    \"symbols\": \",\".join(symbols)\n",
        "}\n",
        "\n",
        "response = requests.get(BASE_URL, headers=headers, params=params)\n",
        "\n",
        "if response.status_code == 200:\n",
        "    data = response.json()\n",
        "    stock_data = []\n",
        "\n",
        "    for quote in data.get(\"quoteResponse\", {}).get(\"result\", []):\n",
        "        stock_data.append({\n",
        "            \"Ticker\": quote.get(\"symbol\", \"N/A\"),\n",
        "            \"Company Name\": quote.get(\"shortName\", \"N/A\"),\n",
        "            \"Current Market Price\": quote.get(\"regularMarketPrice\", \"N/A\")\n",
        "        })\n",
        "\n",
        "    df = pd.DataFrame(stock_data)\n",
        "    print(df)\n",
        "\n",
        "else:\n",
        "    print(f\"Error: {response.status_code}\")\n",
        "    print(response.text)\n"
      ],
      "metadata": {
        "colab": {
          "base_uri": "https://localhost:8080/"
        },
        "id": "71-gd0Ex9C3g",
        "outputId": "ba91a1ee-d0b6-45af-c5fc-1a0556bd14e2"
      },
      "execution_count": 1,
      "outputs": [
        {
          "output_type": "stream",
          "name": "stdout",
          "text": [
            "  Ticker           Company Name  Current Market Price\n",
            "0   AAPL             Apple Inc.                240.36\n",
            "1   MSFT  Microsoft Corporation                399.73\n",
            "2  GOOGL          Alphabet Inc.                172.73\n"
          ]
        }
      ]
    },
    {
      "cell_type": "code",
      "source": [
        "API_KEY = \"\"\n",
        "QUOTE_SUMMARY_URL = \"https://yfapi.net/v11/finance/quoteSummary/\"+symbol\n",
        "\n",
        "def fetch_quote_summary(symbol):\n",
        "    headers = {\n",
        "        \"accept\": \"application/json\",\n",
        "        \"x-api-key\": API_KEY\n",
        "    }\n",
        "    params = {\n",
        "        \"symbol\": symbol,\n",
        "        \"modules\": \"summaryDetail,financialData\"\n",
        "    }\n",
        "    response = requests.get(QUOTE_SUMMARY_URL, headers=headers, params=params)\n",
        "\n",
        "    if response.status_code == 200:\n",
        "        data = response.json()\n",
        "        return data\n",
        "    else:\n",
        "        print(f\"Error fetching quote summary: {response.status_code}\")\n",
        "        print(response.text)\n",
        "        return None\n",
        "\n",
        "def extract_financial_data(data):\n",
        "    if not data or \"quoteSummary\" not in data or \"result\" not in data[\"quoteSummary\"]:\n",
        "        print(\"Invalid data received.\")\n",
        "        return None\n",
        "\n",
        "    result = data[\"quoteSummary\"][\"result\"][0]\n",
        "\n",
        "    financial_data = {\n",
        "        \"Ticker\": result.get(\"symbol\", \"N/A\"),\n",
        "        \"52 Week High\": result.get(\"summaryDetail\", {}).get(\"fiftyTwoWeekHigh\", {}).get(\"raw\", \"N/A\"),\n",
        "        \"52 Week Low\": result.get(\"summaryDetail\", {}).get(\"fiftyTwoWeekLow\", {}).get(\"raw\", \"N/A\"),\n",
        "        \"Return on Assets (ROA)\": result.get(\"financialData\", {}).get(\"returnOnAssets\", {}).get(\"raw\", \"N/A\")\n",
        "    }\n",
        "\n",
        "    return pd.DataFrame([financial_data])\n",
        "\n",
        "symbol = input(\"Enter a stock symbol for financial data: \").strip()\n",
        "data = fetch_quote_summary(symbol)\n",
        "\n",
        "if data:\n",
        "    df = extract_financial_data(data)\n",
        "    if df is not None:\n",
        "        print(\"\\nQuote Summary Data:\")\n",
        "        print(df)\n"
      ],
      "metadata": {
        "colab": {
          "base_uri": "https://localhost:8080/",
          "height": 216
        },
        "id": "eLoJiAhFOgcW",
        "outputId": "d9ff6e09-04fa-4444-b1ab-b1c0370bcbc8"
      },
      "execution_count": 4,
      "outputs": [
        {
          "output_type": "error",
          "ename": "NameError",
          "evalue": "name 'symbol' is not defined",
          "traceback": [
            "\u001b[0;31m---------------------------------------------------------------------------\u001b[0m",
            "\u001b[0;31mNameError\u001b[0m                                 Traceback (most recent call last)",
            "\u001b[0;32m<ipython-input-4-5c36e4a007dc>\u001b[0m in \u001b[0;36m<cell line: 0>\u001b[0;34m()\u001b[0m\n\u001b[1;32m      1\u001b[0m \u001b[0mAPI_KEY\u001b[0m \u001b[0;34m=\u001b[0m \u001b[0;34m\"QtKZAVNnQz9imgaLt6GGn9yG3kCBIbn836tD8AK\"\u001b[0m\u001b[0;34m\u001b[0m\u001b[0;34m\u001b[0m\u001b[0m\n\u001b[0;32m----> 2\u001b[0;31m \u001b[0mQUOTE_SUMMARY_URL\u001b[0m \u001b[0;34m=\u001b[0m \u001b[0;34m\"https://yfapi.net/v11/finance/quoteSummary/\"\u001b[0m\u001b[0;34m+\u001b[0m\u001b[0msymbol\u001b[0m\u001b[0;34m\u001b[0m\u001b[0;34m\u001b[0m\u001b[0m\n\u001b[0m\u001b[1;32m      3\u001b[0m \u001b[0;34m\u001b[0m\u001b[0m\n\u001b[1;32m      4\u001b[0m \u001b[0;32mdef\u001b[0m \u001b[0mfetch_quote_summary\u001b[0m\u001b[0;34m(\u001b[0m\u001b[0msymbol\u001b[0m\u001b[0;34m)\u001b[0m\u001b[0;34m:\u001b[0m\u001b[0;34m\u001b[0m\u001b[0;34m\u001b[0m\u001b[0m\n\u001b[1;32m      5\u001b[0m     headers = {\n",
            "\u001b[0;31mNameError\u001b[0m: name 'symbol' is not defined"
          ]
        }
      ]
    },
    {
      "cell_type": "code",
      "source": [
        "API_KEY = \"\"\n",
        "\n",
        "def fetch_quote_summary(symbol):\n",
        "    QUOTE_SUMMARY_URL = f\"https://yfapi.net/v11/finance/quoteSummary/{symbol}\"\n",
        "    headers = {\n",
        "        \"accept\": \"application/json\",\n",
        "        \"x-api-key\": API_KEY\n",
        "    }\n",
        "    params = {\n",
        "        \"symbol\": symbol,\n",
        "        \"modules\": \"summaryDetail,financialData\"\n",
        "    }\n",
        "    response = requests.get(QUOTE_SUMMARY_URL, headers=headers, params=params)\n",
        "\n",
        "    if response.status_code == 200:\n",
        "        data = response.json()\n",
        "        return data\n",
        "    else:\n",
        "        print(f\"Error fetching quote summary: {response.status_code}\")\n",
        "        print(response.text)\n",
        "        return None\n",
        "\n",
        "def extract_financial_data(data):\n",
        "    if not data or \"quoteSummary\" not in data or \"result\" not in data[\"quoteSummary\"]:\n",
        "        print(\"Invalid data received.\")\n",
        "        return None\n",
        "\n",
        "    result = data[\"quoteSummary\"][\"result\"][0]\n",
        "\n",
        "    financial_data = {\n",
        "        \"Ticker\": result.get(\"symbol\", \"N/A\"),\n",
        "        \"52 Week High\": result.get(\"summaryDetail\", {}).get(\"fiftyTwoWeekHigh\", {}).get(\"raw\", \"N/A\"),\n",
        "        \"52 Week Low\": result.get(\"summaryDetail\", {}).get(\"fiftyTwoWeekLow\", {}).get(\"raw\", \"N/A\"),\n",
        "        \"Return on Assets (ROA)\": result.get(\"financialData\", {}).get(\"returnOnAssets\", {}).get(\"raw\", \"N/A\")\n",
        "    }\n",
        "\n",
        "    return pd.DataFrame([financial_data])\n",
        "\n",
        "symbol = input(\"Enter a stock symbol for financial data: \").strip()\n",
        "data = fetch_quote_summary(symbol)\n",
        "\n",
        "if data:\n",
        "    df = extract_financial_data(data)\n",
        "    if df is not None:\n",
        "        print(\"\\nQuote Summary Data:\")\n",
        "        print(df)\n"
      ],
      "metadata": {
        "colab": {
          "base_uri": "https://localhost:8080/"
        },
        "id": "LHtS7xM9dDCo",
        "outputId": "055ac6c0-8e6d-44f2-c516-2c3d241ff43b"
      },
      "execution_count": 6,
      "outputs": [
        {
          "output_type": "stream",
          "name": "stdout",
          "text": [
            "Enter a stock symbol for financial data: pltr\n",
            "Error fetching quote summary: 403\n",
            "{\"message\":\"Forbidden\",\"hint\":\"Sign up for API key https://financeapi.net/tutorial\"}\n"
          ]
        }
      ]
    },
    {
      "cell_type": "code",
      "source": [
        "import requests\n",
        "import pandas as pd\n",
        "\n",
        "API_KEY = \"\"\n",
        "\n",
        "REGION = \"US\"\n",
        "TRENDING_URL = f\"https://yfapi.net/v1/finance/trending/{REGION}\"\n",
        "QUOTE_URL = \"https://yfapi.net/v6/finance/quote\"\n",
        "\n",
        "headers = {\n",
        "    \"x-api-key\": API_KEY\n",
        "}\n",
        "\n",
        "def get_trending_tickers():\n",
        "    \"\"\"Fetch trending stock tickers from Yahoo Finance API.\"\"\"\n",
        "    response = requests.get(TRENDING_URL, headers=headers)\n",
        "    if response.status_code == 200:\n",
        "        data = response.json()\n",
        "        return [item[\"symbol\"] for item in data.get(\"finance\", {}).get(\"result\", [{}])[0].get(\"quotes\", [])]\n",
        "    else:\n",
        "        print(f\"Error fetching trending stocks: {response.status_code}\")\n",
        "        print(response.text)\n",
        "        return []\n",
        "\n",
        "def get_stock_details(tickers):\n",
        "    \"\"\"Fetch stock details including name, price, and 52-week high/low.\"\"\"\n",
        "    params = {\n",
        "        \"symbols\": \",\".join(tickers)\n",
        "    }\n",
        "    response = requests.get(QUOTE_URL, headers=headers, params=params)\n",
        "    if response.status_code == 200:\n",
        "        data = response.json()\n",
        "        stock_data = []\n",
        "        for quote in data.get(\"quoteResponse\", {}).get(\"result\", []):\n",
        "            stock_data.append({\n",
        "                \"Ticker\": quote.get(\"symbol\", \"N/A\"),\n",
        "                \"Company Name\": quote.get(\"shortName\", \"N/A\"),\n",
        "                \"Current Price\": quote.get(\"regularMarketPrice\", \"N/A\"),\n",
        "                \"52-Week High\": quote.get(\"fiftyTwoWeekHigh\", \"N/A\"),\n",
        "                \"52-Week Low\": quote.get(\"fiftyTwoWeekLow\", \"N/A\")\n",
        "            })\n",
        "        return pd.DataFrame(stock_data)\n",
        "    else:\n",
        "        print(f\"Error fetching stock details: {response.status_code}\")\n",
        "        print(response.text)\n",
        "        return pd.DataFrame()\n",
        "\n",
        "tickers = get_trending_tickers()\n",
        "if tickers:\n",
        "    df = get_stock_details(tickers)\n",
        "    print(\"\\nTrending Stocks Data:\")\n",
        "    print(df)\n",
        "else:\n",
        "    print(\"No trending stocks found.\")\n"
      ],
      "metadata": {
        "colab": {
          "base_uri": "https://localhost:8080/"
        },
        "id": "I48pD-r3KnQF",
        "outputId": "1e1fdbca-a6b1-41b3-b9cf-3bd11613a4f0"
      },
      "execution_count": 7,
      "outputs": [
        {
          "output_type": "stream",
          "name": "stdout",
          "text": [
            "\n",
            "Trending Stocks Data:\n",
            "   Ticker                     Company Name  Current Price  52-Week High  \\\n",
            "0    NVDA               NVIDIA Corporation         131.28       153.130   \n",
            "1     CRM                 Salesforce, Inc.         307.33       369.000   \n",
            "2    SNOW                   Snowflake Inc.         166.19       194.400   \n",
            "3    IONQ                       IonQ, Inc.          29.93        54.740   \n",
            "4    BYND                Beyond Meat, Inc.           3.56        11.700   \n",
            "5     NIO                         NIO Inc.           4.72         7.710   \n",
            "6    MRNA                    Moderna, Inc.          33.58       170.470   \n",
            "7    MARA              MARA Holdings, Inc.          12.45        30.710   \n",
            "8    TDOC             Teladoc Health, Inc.          10.99        15.950   \n",
            "9     APP             Applovin Corporation         331.00       525.150   \n",
            "10   NTNX                    Nutanix, Inc.          69.35        75.800   \n",
            "11     AI                      C3.ai, Inc.          26.44        45.080   \n",
            "12    PBR  Petroleo Brasileiro S.A.- Petro          14.32        17.440   \n",
            "13   EBAY                        eBay Inc.          69.14        71.610   \n",
            "14   ROOT                       Root, Inc.          98.71       141.227   \n",
            "15   MULN          Mullen Automotive, Inc.           4.04     47100.000   \n",
            "16    AAP          Advance Auto Parts Inc.          37.70        88.560   \n",
            "17   PSTG               Pure Storage, Inc.          62.44        73.670   \n",
            "18   OTLY                   Oatly Group AB           8.08        26.800   \n",
            "19   SNPS                   Synopsys, Inc.         470.46       624.800   \n",
            "\n",
            "    52-Week Low  \n",
            "0        75.606  \n",
            "1       212.000  \n",
            "2       107.130  \n",
            "3         6.220  \n",
            "4         3.300  \n",
            "5         3.610  \n",
            "6        29.250  \n",
            "7        12.050  \n",
            "8         6.760  \n",
            "9        57.400  \n",
            "10       43.350  \n",
            "11       18.850  \n",
            "12       12.550  \n",
            "13       46.980  \n",
            "14       27.240  \n",
            "15        2.290  \n",
            "16       35.590  \n",
            "17       44.760  \n",
            "18        6.000  \n",
            "19      457.000  \n"
          ]
        }
      ]
    }
  ]
}