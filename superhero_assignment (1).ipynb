{
  "cells": [
    {
      "cell_type": "markdown",
      "metadata": {
        "id": "view-in-github"
      },
      "source": [
        "<a href=\"https://colab.research.google.com/github/fourfeatherz/DS2002S25/blob/main/python/superhero_assignment.ipynb\" target=\"_parent\"><img src=\"https://colab.research.google.com/assets/colab-badge.svg\" alt=\"Open In Colab\"/></a>"
      ],
      "id": "view-in-github"
    },
    {
      "cell_type": "markdown",
      "id": "5fa8dcf6",
      "metadata": {
        "id": "5fa8dcf6"
      },
      "source": [
        "# Superhero Database Assignment (SQLite & Google Colab)\n",
        "\n",
        "## Objective\n",
        "In this assignment, you will design and implement a **Superhero Database** using SQLite in Google Colab. This database will store superheroes, villains, and their battles. You will write SQL queries to analyze battle outcomes and relationships between heroes and villains.\n",
        "\n",
        "### Group Size:\n",
        "- 2 to 3 students per group.\n",
        "\n",
        "### Tools Required:\n",
        "- **Google Colab**\n",
        "- **SQLite (built into Python)**\n",
        "- **CSV files (provided for import)**"
      ]
    },
    {
      "cell_type": "markdown",
      "id": "5535e625",
      "metadata": {
        "id": "5535e625"
      },
      "source": [
        "## Step 1: Setting Up Your SQLite Database\n",
        "\n",
        "### Tasks:\n",
        "1. Initialize SQLite in Google Colab.\n",
        "2. Create a database named `superhero_db.sqlite`.\n",
        "3. Define the database schema, ensuring it includes the following tables:\n",
        "   - `heroes`: Stores superhero names, powers, and teams.\n",
        "   - `villains`: Stores villains and their evil plans.\n",
        "   - `battles`: Tracks battles between heroes and villains, including the outcome.\n",
        "4. Implement primary keys and foreign keys where appropriate.\n",
        "\n",
        "✅ **Checkpoint:** Ensure that the database and tables have been successfully created."
      ]
    },
    {
      "cell_type": "code",
      "source": [
        "import sqlite3\n",
        "\n",
        "conn = sqlite3.connect('superhero_db.sqlite')\n",
        "\n",
        "cursor = conn.cursor()"
      ],
      "metadata": {
        "id": "A1rloN_U4N0t"
      },
      "id": "A1rloN_U4N0t",
      "execution_count": 1,
      "outputs": []
    },
    {
      "cell_type": "code",
      "source": [
        "cursor.execute(\"\"\"\n",
        "CREATE TABLE IF NOT EXISTS heroes (\n",
        "    id INTEGER PRIMARY KEY AUTOINCREMENT,\n",
        "    name TEXT NOT NULL,\n",
        "    power TEXT NOT NULL,\n",
        "    team TEXT\n",
        ");\n",
        "\"\"\")\n",
        "\n",
        "cursor.execute(\"\"\"\n",
        "CREATE TABLE IF NOT EXISTS villains (\n",
        "    id INTEGER PRIMARY KEY AUTOINCREMENT,\n",
        "    name TEXT NOT NULL,\n",
        "    evil_plan TEXT NOT NULL\n",
        ");\n",
        "\"\"\")\n",
        "\n",
        "cursor.execute(\"\"\"\n",
        "CREATE TABLE IF NOT EXISTS battles (\n",
        "    id INTEGER PRIMARY KEY AUTOINCREMENT,\n",
        "    hero_id INTEGER NOT NULL,\n",
        "    villain_id INTEGER NOT NULL,\n",
        "    outcome TEXT NOT NULL,\n",
        "    FOREIGN KEY (hero_id) REFERENCES heroes(id),\n",
        "    FOREIGN KEY (villain_id) REFERENCES villains(id)\n",
        ");\n",
        "\"\"\")\n"
      ],
      "metadata": {
        "colab": {
          "base_uri": "https://localhost:8080/"
        },
        "id": "vYbrDNLW48K_",
        "outputId": "c20496cd-5dc4-4f26-a26b-48fb515be5d0"
      },
      "id": "vYbrDNLW48K_",
      "execution_count": 2,
      "outputs": [
        {
          "output_type": "execute_result",
          "data": {
            "text/plain": [
              "<sqlite3.Cursor at 0x7892f1294040>"
            ]
          },
          "metadata": {},
          "execution_count": 2
        }
      ]
    },
    {
      "cell_type": "markdown",
      "id": "154b3c3a",
      "metadata": {
        "id": "154b3c3a"
      },
      "source": [
        "## Step 2: Import Data from CSV Files\n",
        "\n",
        "### Tasks:\n",
        "1. Download the provided CSV files.\n",
        "2. Upload them to Google Colab.\n",
        "3. Write a script to import data from these files into the appropriate tables.\n",
        "4. Verify that the data has been successfully inserted.\n",
        "\n",
        "✅ **Checkpoint:** Ensure that each table contains the expected data from the CSV files."
      ]
    },
    {
      "cell_type": "code",
      "source": [
        "heroes_data = [\n",
        "    (1, 'Spider-Man', 'Web-slinging', 'Avengers'),\n",
        "    (2, 'Iron Man', 'Powered Armor', 'Avengers'),\n",
        "    (3, 'Batman', 'Genius Detective', 'Justice League'),\n",
        "    (4, 'Superman', 'Super Strength', 'Justice League'),\n",
        "    (5, 'Thor', 'God of Thunder', 'Avengers'),\n",
        "    (6, 'Wonder Woman', 'Amazonian Strength', 'Justice League'),\n",
        "    (7, 'Black Panther', 'Enhanced Agility', 'Avengers'),\n",
        "    (8, 'The Flash', 'Super Speed', 'Justice League'),\n",
        "    (9, 'Hulk', 'Super Strength', 'Avengers'),\n",
        "    (10, 'Doctor Strange', 'Mystic Arts', 'Avengers')\n",
        "]\n",
        "cursor.executemany('''\n",
        "INSERT INTO heroes (id, name, power, team) VALUES (?, ?, ?, ?)\n",
        "''', heroes_data)\n",
        "\n",
        "cursor.execute(\"SELECT * FROM heroes\")\n",
        "print(cursor.fetchall())\n",
        "\n"
      ],
      "metadata": {
        "colab": {
          "base_uri": "https://localhost:8080/",
          "height": 216
        },
        "id": "D4Uvhh1m-Iqr",
        "outputId": "aebcff9b-f3a6-4e80-c892-e860e7d854d1"
      },
      "id": "D4Uvhh1m-Iqr",
      "execution_count": 3,
      "outputs": [
        {
          "output_type": "error",
          "ename": "IntegrityError",
          "evalue": "UNIQUE constraint failed: heroes.id",
          "traceback": [
            "\u001b[0;31m---------------------------------------------------------------------------\u001b[0m",
            "\u001b[0;31mIntegrityError\u001b[0m                            Traceback (most recent call last)",
            "\u001b[0;32m<ipython-input-3-c49a7fcb7aa6>\u001b[0m in \u001b[0;36m<cell line: 0>\u001b[0;34m()\u001b[0m\n\u001b[1;32m     11\u001b[0m     \u001b[0;34m(\u001b[0m\u001b[0;36m10\u001b[0m\u001b[0;34m,\u001b[0m \u001b[0;34m'Doctor Strange'\u001b[0m\u001b[0;34m,\u001b[0m \u001b[0;34m'Mystic Arts'\u001b[0m\u001b[0;34m,\u001b[0m \u001b[0;34m'Avengers'\u001b[0m\u001b[0;34m)\u001b[0m\u001b[0;34m\u001b[0m\u001b[0;34m\u001b[0m\u001b[0m\n\u001b[1;32m     12\u001b[0m ]\n\u001b[0;32m---> 13\u001b[0;31m cursor.executemany('''\n\u001b[0m\u001b[1;32m     14\u001b[0m \u001b[0mINSERT\u001b[0m \u001b[0mINTO\u001b[0m \u001b[0mheroes\u001b[0m \u001b[0;34m(\u001b[0m\u001b[0mid\u001b[0m\u001b[0;34m,\u001b[0m \u001b[0mname\u001b[0m\u001b[0;34m,\u001b[0m \u001b[0mpower\u001b[0m\u001b[0;34m,\u001b[0m \u001b[0mteam\u001b[0m\u001b[0;34m)\u001b[0m \u001b[0mVALUES\u001b[0m \u001b[0;34m(\u001b[0m\u001b[0;31m?\u001b[0m\u001b[0;34m,\u001b[0m\u001b[0;31m \u001b[0m\u001b[0;31m?\u001b[0m\u001b[0;34m,\u001b[0m\u001b[0;31m \u001b[0m\u001b[0;31m?\u001b[0m\u001b[0;34m,\u001b[0m\u001b[0;31m \u001b[0m\u001b[0;31m?\u001b[0m\u001b[0;34m)\u001b[0m\u001b[0;34m\u001b[0m\u001b[0;34m\u001b[0m\u001b[0m\n\u001b[1;32m     15\u001b[0m ''', heroes_data)\n",
            "\u001b[0;31mIntegrityError\u001b[0m: UNIQUE constraint failed: heroes.id"
          ]
        }
      ]
    },
    {
      "cell_type": "code",
      "source": [
        "villains_data = [\n",
        "    (1, 'Green Goblin', 'Terrorize New York'),\n",
        "    (2, 'Thanos', 'Collect all Infinity Stones'),\n",
        "    (3, 'Joker', 'Spread chaos in Gotham'),\n",
        "    (4, 'Lex Luthor', 'Defeat Superman'),\n",
        "    (5, 'Loki', 'Trick humanity into worshiping him'),\n",
        "    (6, 'Ultron', 'AI world domination'),\n",
        "    (7, 'Darkseid', 'Control the universe'),\n",
        "    (8, 'Venom', 'Consume Spider-Man'),\n",
        "    (9, 'Magneto', 'Mutant supremacy'),\n",
        "    (10, 'Red Skull', 'Revive Hydra')\n",
        "]\n",
        "\n",
        "cursor.executemany('''\n",
        "INSERT INTO villains (id, name, evil_plan) VALUES (?, ?, ?)\n",
        "''', villains_data)\n",
        "\n",
        "cursor.execute(\"SELECT * FROM villains\")\n",
        "print(cursor.fetchall())"
      ],
      "metadata": {
        "id": "dwRRB8QM-sL5"
      },
      "id": "dwRRB8QM-sL5",
      "execution_count": null,
      "outputs": []
    },
    {
      "cell_type": "code",
      "source": [
        "battles_data = [\n",
        "    (1, 1, 2, 'Hero Wins'),\n",
        "    (2, 3, 4, 'Villain Wins'),\n",
        "    (3, 5, 6, 'Hero Wins'),\n",
        "    (4, 7, 8, 'Hero Wins'),\n",
        "    (5, 9, 10, 'Hero Wins'),\n",
        "    (6, 2, 3, 'Draw'),\n",
        "    (7, 4, 5, 'Villain Wins'),\n",
        "    (8, 6, 7, 'Hero Wins'),\n",
        "    (9, 8, 9, 'Hero Wins'),\n",
        "    (10, 10, 1, 'Villain Wins')\n",
        "]\n",
        "\n",
        "cursor.executemany('''\n",
        "INSERT INTO battles (id, hero_id, villain_id, outcome) VALUES (?, ?, ?, ?)\n",
        "''', battles_data)\n",
        "\n",
        "cursor.execute(\"SELECT * FROM battles\")\n",
        "print(cursor.fetchall())\n",
        "\n"
      ],
      "metadata": {
        "id": "TnQ4Y4uO8mMH"
      },
      "id": "TnQ4Y4uO8mMH",
      "execution_count": null,
      "outputs": []
    },
    {
      "cell_type": "code",
      "source": [
        "cursor.execute(\"SELECT * FROM heroes LIMIT 5\")\n",
        "print(cursor.fetchall())\n",
        "\n",
        "cursor.execute(\"SELECT * FROM villains LIMIT 5\")\n",
        "print(cursor.fetchall())\n",
        "\n",
        "cursor.execute(\"SELECT * FROM battles LIMIT 5\")\n",
        "print(cursor.fetchall())\n",
        "\n"
      ],
      "metadata": {
        "id": "liHihvwy_ST0"
      },
      "id": "liHihvwy_ST0",
      "execution_count": null,
      "outputs": []
    },
    {
      "cell_type": "markdown",
      "id": "33548d9f",
      "metadata": {
        "id": "33548d9f"
      },
      "source": [
        "## Step 3: Querying the Database\n",
        "\n",
        "### Tasks:\n",
        "Write SQL queries to answer the following:\n",
        "1. Retrieve all superheroes and their powers.\n",
        "2. Find all battles where the hero won.\n",
        "3. List all villains and their evil plans.\n",
        "4. Determine which superhero has fought the most battles.\n",
        "\n",
        "✅ **Checkpoint:** Ensure that all queries return meaningful results from the database."
      ]
    },
    {
      "cell_type": "markdown",
      "source": [
        "1. Retrieve all superheroes and their powers."
      ],
      "metadata": {
        "id": "0tYi00NF_mnw"
      },
      "id": "0tYi00NF_mnw"
    },
    {
      "cell_type": "code",
      "source": [
        "cursor.execute(\"\"\"\n",
        "SELECT name, power\n",
        "FROM heroes;\n",
        "\"\"\")\n",
        "\n",
        "print(cursor.fetchall())\n"
      ],
      "metadata": {
        "colab": {
          "base_uri": "https://localhost:8080/"
        },
        "id": "-TQRHe-n_iHA",
        "outputId": "12a1d93c-ebff-4d57-b6a4-6b71ee73750c"
      },
      "id": "-TQRHe-n_iHA",
      "execution_count": 4,
      "outputs": [
        {
          "output_type": "stream",
          "name": "stdout",
          "text": [
            "[('Spider-Man', 'Web-slinging'), ('Iron Man', 'Powered Armor'), ('Batman', 'Genius Detective'), ('Superman', 'Super Strength'), ('Thor', 'God of Thunder'), ('Wonder Woman', 'Amazonian Strength'), ('Black Panther', 'Enhanced Agility'), ('The Flash', 'Super Speed'), ('Hulk', 'Super Strength'), ('Doctor Strange', 'Mystic Arts')]\n"
          ]
        }
      ]
    },
    {
      "cell_type": "markdown",
      "source": [
        "2. Find all battles where the hero won."
      ],
      "metadata": {
        "id": "SPusT97VAaUG"
      },
      "id": "SPusT97VAaUG"
    },
    {
      "cell_type": "code",
      "source": [
        "cursor.execute(\"\"\"\n",
        "SELECT *\n",
        "FROM battles\n",
        "WHERE outcome = 'Hero Wins';\n",
        "\"\"\")\n",
        "\n",
        "print(cursor.fetchall())"
      ],
      "metadata": {
        "colab": {
          "base_uri": "https://localhost:8080/"
        },
        "id": "bnGy6rvmAcK5",
        "outputId": "3c7dca8e-298a-4748-e681-20e9c6716c6f"
      },
      "id": "bnGy6rvmAcK5",
      "execution_count": 5,
      "outputs": [
        {
          "output_type": "stream",
          "name": "stdout",
          "text": [
            "[(1, 1, 2, 'Hero Wins'), (3, 5, 6, 'Hero Wins'), (4, 7, 8, 'Hero Wins'), (5, 9, 10, 'Hero Wins'), (8, 6, 7, 'Hero Wins'), (9, 8, 9, 'Hero Wins')]\n"
          ]
        }
      ]
    },
    {
      "cell_type": "markdown",
      "source": [
        "3. List all villains and their evil plans"
      ],
      "metadata": {
        "id": "ZbxwnXQfAhJz"
      },
      "id": "ZbxwnXQfAhJz"
    },
    {
      "cell_type": "code",
      "source": [
        "cursor.execute(\"\"\"\n",
        "SELECT name, evil_plan\n",
        "FROM villains;\n",
        "\"\"\")\n",
        "\n",
        "print(cursor.fetchall())"
      ],
      "metadata": {
        "colab": {
          "base_uri": "https://localhost:8080/"
        },
        "id": "yYDP9aEYAlR4",
        "outputId": "de2ed254-bf01-401b-8067-7c83d900e812"
      },
      "id": "yYDP9aEYAlR4",
      "execution_count": 6,
      "outputs": [
        {
          "output_type": "stream",
          "name": "stdout",
          "text": [
            "[('Green Goblin', 'Terrorize New York'), ('Thanos', 'Collect all Infinity Stones'), ('Joker', 'Spread chaos in Gotham'), ('Lex Luthor', 'Defeat Superman'), ('Loki', 'Trick humanity into worshiping him'), ('Ultron', 'AI world domination'), ('Darkseid', 'Control the universe'), ('Venom', 'Consume Spider-Man'), ('Magneto', 'Mutant supremacy'), ('Red Skull', 'Revive Hydra')]\n"
          ]
        }
      ]
    },
    {
      "cell_type": "markdown",
      "source": [
        "4. Determine which superhero has fought the most battles."
      ],
      "metadata": {
        "id": "bzc59pYhAjLs"
      },
      "id": "bzc59pYhAjLs"
    },
    {
      "cell_type": "code",
      "source": [
        "cursor.execute(\"\"\"\n",
        "SELECT heroes.name, COUNT(battles.id) AS battle_count\n",
        "FROM battles\n",
        "JOIN heroes ON battles.hero_id = heroes.id\n",
        "GROUP BY heroes.name\n",
        "ORDER BY battle_count DESC\n",
        "LIMIT 1;\n",
        "\"\"\")\n",
        "\n",
        "print(cursor.fetchall())\n"
      ],
      "metadata": {
        "colab": {
          "base_uri": "https://localhost:8080/"
        },
        "id": "CmEJQqmjAzLP",
        "outputId": "c270a378-10df-48f2-e634-4096efede802"
      },
      "id": "CmEJQqmjAzLP",
      "execution_count": 7,
      "outputs": [
        {
          "output_type": "stream",
          "name": "stdout",
          "text": [
            "[('Wonder Woman', 1)]\n"
          ]
        }
      ]
    },
    {
      "cell_type": "markdown",
      "id": "de8bda94",
      "metadata": {
        "id": "de8bda94"
      },
      "source": [
        "## Step 4: Add a Custom Feature\n",
        "\n",
        "### Tasks:\n",
        "1. Design and implement an additional table related to superheroes or villains.\n",
        "2. Populate it with data.\n",
        "3. Write at least one query to retrieve meaningful insights from the new table.\n",
        "\n",
        "**Examples of Custom Features:**\n",
        "- Sidekicks for superheroes\n",
        "- Villain hideouts\n",
        "- Battle locations\n",
        "- Superhero equipment\n",
        "\n",
        "✅ **Checkpoint:** Ensure that the new table and queries function correctly."
      ]
    },
    {
      "cell_type": "code",
      "source": [
        "cursor.execute(\"\"\"\n",
        "CREATE TABLE IF NOT EXISTS battle_locations (\n",
        "    id INTEGER PRIMARY KEY AUTOINCREMENT,\n",
        "    battle_id INTEGER NOT NULL,\n",
        "    location TEXT NOT NULL,\n",
        "    FOREIGN KEY (battle_id) REFERENCES battles(id)\n",
        ");\n",
        "\"\"\")\n",
        "conn.commit()\n"
      ],
      "metadata": {
        "id": "X03mlQV7Bjoc"
      },
      "id": "X03mlQV7Bjoc",
      "execution_count": null,
      "outputs": []
    },
    {
      "cell_type": "code",
      "source": [
        "battle_locations_data = [\n",
        "    (1, 'New York City'),\n",
        "    (2, 'Gotham City'),\n",
        "    (3, 'Asgard'),\n",
        "    (4, 'Wakanda'),\n",
        "    (5, 'S.H.I.E.L.D. Helicarrier'),\n",
        "    (6, 'Metropolis'),\n",
        "    (7, 'Titan'),\n",
        "    (8, 'Central City'),\n",
        "    (9, 'Genosha'),\n",
        "    (10, 'Latveria')\n",
        "]\n",
        "\n",
        "cursor.executemany(\"\"\"\n",
        "INSERT INTO battle_locations (battle_id, location) VALUES (?, ?)\n",
        "\"\"\", battle_locations_data)\n",
        "\n",
        "conn.commit()\n"
      ],
      "metadata": {
        "id": "-iX8iY4ZB0Tb"
      },
      "id": "-iX8iY4ZB0Tb",
      "execution_count": null,
      "outputs": []
    },
    {
      "cell_type": "markdown",
      "source": [
        "Retrieve all of the battles, the locations, and the participants:"
      ],
      "metadata": {
        "id": "QlZ4b06aB_Cc"
      },
      "id": "QlZ4b06aB_Cc"
    },
    {
      "cell_type": "code",
      "source": [
        "cursor.execute(\"\"\"\n",
        "SELECT battles.id, heroes.name AS hero, villains.name AS villain, battle_locations.location, battles.outcome\n",
        "FROM battles\n",
        "JOIN heroes ON battles.hero_id = heroes.id\n",
        "JOIN villains ON battles.villain_id = villains.id\n",
        "JOIN battle_locations ON battles.id = battle_locations.battle_id;\n",
        "\"\"\")\n",
        "\n",
        "for row in cursor.fetchall():\n",
        "    print(row)\n"
      ],
      "metadata": {
        "id": "r_FpJpVpB4H3"
      },
      "id": "r_FpJpVpB4H3",
      "execution_count": null,
      "outputs": []
    },
    {
      "cell_type": "markdown",
      "id": "9bf43fe6",
      "metadata": {
        "id": "9bf43fe6"
      },
      "source": [
        "## Bonus Challenge (+5 Points)\n",
        "\n",
        "### Tasks:\n",
        "1. Enhance your project by adding a visual or interactive component.\n",
        "\n",
        "**Options:**\n",
        "- Visualize battles using Matplotlib (e.g., a bar chart showing how many battles each superhero has fought).\n",
        "- Make it interactive (e.g., allow users to input a superhero name and display their battles).\n",
        "\n",
        "✅ **Checkpoint:** If attempting the bonus, ensure that your visualization or interactive component works correctly."
      ]
    },
    {
      "cell_type": "code",
      "source": [
        "import matplotlib.pyplot as plt\n",
        "\n",
        "# Query to count battles won per superhero\n",
        "cursor.execute(\"\"\"\n",
        "SELECT heroes.name, COUNT(battles.id) AS wins\n",
        "FROM battles\n",
        "JOIN heroes ON battles.hero_id = heroes.id\n",
        "WHERE battles.outcome = 'Hero Wins'\n",
        "GROUP BY heroes.name\n",
        "ORDER BY wins DESC;\n",
        "\"\"\")\n",
        "\n",
        "# Fetch data\n",
        "results = cursor.fetchall()\n",
        "\n",
        "# Extract superhero names and win counts\n",
        "heroes = [row[0] for row in results]\n",
        "wins = [int(row[1]) for row in results]  # Ensuring integer values\n",
        "\n",
        "# Create the bar chart\n",
        "plt.figure(figsize=(10, 6))\n",
        "plt.barh(heroes, wins, color='green')  # Using green to represent wins\n",
        "plt.xlabel(\"Total Battles Won\")\n",
        "plt.ylabel(\"Superhero\")\n",
        "plt.title(\"Total Battles Won by Each Superhero\")\n",
        "plt.xticks(range(0, max(wins) + 1))  # Ensure whole numbers on x-axis\n",
        "plt.gca().invert_yaxis()  # Invert y-axis for better readability\n",
        "plt.show()\n"
      ],
      "metadata": {
        "colab": {
          "base_uri": "https://localhost:8080/",
          "height": 564
        },
        "id": "nSwJlRzADj0K",
        "outputId": "600d8f12-d71f-4b44-e3cf-a8e9406547e9"
      },
      "id": "nSwJlRzADj0K",
      "execution_count": 8,
      "outputs": [
        {
          "output_type": "display_data",
          "data": {
            "text/plain": [
              "<Figure size 1000x600 with 1 Axes>"
            ],
            "image/png": "[encoded data removed]"
          },
          "metadata": {}
        }
      ]
    },
    {
      "cell_type": "markdown",
      "id": "89f56c05",
      "metadata": {
        "id": "89f56c05"
      },
      "source": [
        "## Submission Guidelines\n",
        "\n",
        "Each group must submit a **Google Colab Notebook (.ipynb)** containing:\n",
        "- ✅ **Database schema (DDL)**\n",
        "- ✅ **CSV imports & data insertion (DML)**\n",
        "- ✅ **SQL queries & results**\n",
        "- ✅ **Custom feature (bonus if applicable)**"
      ]
    },
    {
      "cell_type": "markdown",
      "id": "61477c9b",
      "metadata": {
        "id": "61477c9b"
      },
      "source": [
        "## Grading Criteria (Total: 25 Points)\n",
        "\n",
        "| Section                 | Points |\n",
        "|-------------------------|--------|\n",
        "| Database Setup          | 5      |\n",
        "| Data Importing         | 10     |\n",
        "| Querying the Data      | 10     |\n",
        "| Extra Feature          | 5      |\n",
        "| Bonus Challenge (Optional) | +5  |"
      ]
    },
    {
      "cell_type": "markdown",
      "id": "92bf6839",
      "metadata": {
        "id": "92bf6839"
      },
      "source": [
        "### Final Notes:\n",
        "- Be **creative** when designing superheroes and villains.\n",
        "- **Comment your code** to explain its functionality.\n",
        "- **Have fun** building your superhero universe!"
      ]
    }
  ],
  "metadata": {
    "colab": {
      "provenance": []
    },
    "language_info": {
      "name": "python"
    },
    "kernelspec": {
      "name": "python3",
      "display_name": "Python 3"
    }
  },
  "nbformat": 4,
  "nbformat_minor": 5
}